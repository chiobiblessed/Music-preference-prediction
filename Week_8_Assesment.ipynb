{
  "nbformat": 4,
  "nbformat_minor": 0,
  "metadata": {
    "colab": {
      "provenance": [],
      "authorship_tag": "ABX9TyMqUiaHRc1/ycsA3Pk0SC4y",
      "include_colab_link": true
    },
    "kernelspec": {
      "name": "python3",
      "display_name": "Python 3"
    },
    "language_info": {
      "name": "python"
    }
  },
  "cells": [
    {
      "cell_type": "markdown",
      "metadata": {
        "id": "view-in-github",
        "colab_type": "text"
      },
      "source": [
        "<a href=\"https://colab.research.google.com/github/chiobiblessed/Music-preference-prediction/blob/main/Week_8_Assesment.ipynb\" target=\"_parent\"><img src=\"https://colab.research.google.com/assets/colab-badge.svg\" alt=\"Open In Colab\"/></a>"
      ]
    },
    {
      "cell_type": "code",
      "execution_count": null,
      "metadata": {
        "id": "20Qut574xDi6"
      },
      "outputs": [],
      "source": []
    },
    {
      "cell_type": "markdown",
      "source": [
        "1. Define Pearson correlation and explain what the coefficient indicates\n",
        "Answer:Pearson correlation measures the linear relationship between two continous variables with values ranging from -1 to +1. The correlation coefficient (r) quantifies this relationship indicating both the strength and direction of the association. A positive value implies that as a variable increases, the other also increases as well. On the other hand, a negative value indicates an inverse relationship between the variables.\n",
        "\n",
        "2. Describe the meaning of coefficients close tp 1, -1 and 0\n",
        "Answer : A coefficient close to 1 signifies a strong positive linear relationship where variables increase together almost proportionally.\n",
        "A coefficient near -1 indicates a strong negative linear relationship meaning one variable decreases as the other increases.\n",
        "A coefficient near 0 suggests no linear relationship between the variables.\n",
        "\n",
        "3. Explain the role of p-value in determining certainty\n",
        "Answer: The p-value helps determine the statistical significance of the correlation coefficient, indicating the probability that the observed correlation occured by chance. A low p-value(below 0.05) suggests that the correlation is statistically significant providng greater confidence that the relationship between the variables is real\n",
        "\n",
        "4. Explain the difference between predictor and target variables in a scatter plot\n",
        "Answer : In a scatter plot, the predictor (independent variable) is plotted on the x-axis while the target (dependent variable) is on the y-axis. The predictor variable is what we use to forecast or explain the target variables behavior helping to identify any patterns or trends in the data."
      ],
      "metadata": {
        "id": "5NVCkS6yxTbI"
      }
    }
  ]
}