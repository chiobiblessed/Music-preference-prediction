{
  "nbformat": 4,
  "nbformat_minor": 0,
  "metadata": {
    "colab": {
      "provenance": [],
      "authorship_tag": "ABX9TyO0nO3E7QIhCgqPIrzVHdwn",
      "include_colab_link": true
    },
    "kernelspec": {
      "name": "python3",
      "display_name": "Python 3"
    },
    "language_info": {
      "name": "python"
    }
  },
  "cells": [
    {
      "cell_type": "markdown",
      "metadata": {
        "id": "view-in-github",
        "colab_type": "text"
      },
      "source": [
        "<a href=\"https://colab.research.google.com/github/chiobiblessed/Music-preference-prediction/blob/main/Week_9.ipynb\" target=\"_parent\"><img src=\"https://colab.research.google.com/assets/colab-badge.svg\" alt=\"Open In Colab\"/></a>"
      ]
    },
    {
      "cell_type": "code",
      "execution_count": null,
      "metadata": {
        "id": "v4ShVU4ehQm9"
      },
      "outputs": [],
      "source": []
    },
    {
      "cell_type": "markdown",
      "source": [
        "1. Explain supervised learning, and provide an example of its application\n",
        "\n",
        "**Answer**\n",
        "Supervised learning is a machine learning technique that uses labeled data to train algorithms to recognize patterns and predict outcomes. it cann be applied in Fraud detection where\n",
        "Supervised learning can be used to identify fraudulent patterns and behaviors in transaction data. This can help businesses prevent financial losses.\n",
        "\n",
        "2. Explain how classification and regression differ in supervised learning and what is clustering with a real-world example?\n",
        "\n",
        "**Answer**\n",
        "Classification and regression are supervised learning algorithms\n",
        "\n",
        "**Classification** assigns data points to predefined categories. For example, classifying emails as spam or not spam. Other examples include image recognition and medical diagnosis\n",
        "Regression Predicts continuous values. For example, predicting house prices, stock prices, or weather forecasts.\n",
        "\n",
        "**Clustering** is an unsupervised learning algorithm that uncovers hidden structures within unlabeled data. For example, grouping music into genres based on its characteristics. Other examples include customer segmentation and anomaly detection.\n",
        "\n",
        "3. How does categorical data and numerical data differ? provide an example of each\n",
        "\n",
        "**Answer**\n",
        "\n",
        "Categorical data can be put in groups using names or labels. This grouping is typically generated using a matching procedure based on data attributes and similarities between these qualities.\n",
        "Each piece of a categorical dataset, also known as qualitative data, may be assigned to only one category based on its qualities, and each category is mutually exclusive. There are two primary categories of categorical data: Nominal data: This is the data category that names or labels its categories. It has features resembling a noun and is occasionally referred to as naming data.\n",
        "Ordinary data: Elements with rankings, orders, or rating scales are included in this category of categorical data. Nominal data can be ordered and counted but not measured.\n",
        "\n",
        "Numerical data also known as quantitative data can be used to measure a persons height, weight, IQ etc. it can be of two types:\n",
        "\n",
        "Discrete Data: Countable numerical data are discrete data. They are mapped one-to-one to natural numbers, in other words. Age, the number of students in a class, the number of candidates in an election, etc., are a few examples of discrete data in general.\n",
        "Continuous Data: This is an uncountable data type for numbers. A series of intervals on a natural number line is used to depict them. Student CGPA, height, and other continuous data types are a few examples.\n",
        "\n",
        "Some differences between categorical and numerical data include:\n",
        "\n",
        "1\tDefinition\tCategorical data can be stored and identified by names or labels.\tNumerical data are numbers, not words or descriptions.\n",
        "\n",
        "2\tAlias\tBecause it qualifies data before categorizing it, it is sometimes referred to as qualitative data.\tQuantitative data represents numerical values for arithmetic processes.\n",
        "\n"
      ],
      "metadata": {
        "id": "dM3kI4lhiKl7"
      }
    },
    {
      "cell_type": "code",
      "source": [],
      "metadata": {
        "id": "DgPS00MtiieS"
      },
      "execution_count": null,
      "outputs": []
    }
  ]
}