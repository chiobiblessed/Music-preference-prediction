{
  "nbformat": 4,
  "nbformat_minor": 0,
  "metadata": {
    "colab": {
      "provenance": [],
      "authorship_tag": "ABX9TyN6nE/m610hq70GRT54Fuam",
      "include_colab_link": true
    },
    "kernelspec": {
      "name": "python3",
      "display_name": "Python 3"
    },
    "language_info": {
      "name": "python"
    }
  },
  "cells": [
    {
      "cell_type": "markdown",
      "metadata": {
        "id": "view-in-github",
        "colab_type": "text"
      },
      "source": [
        "<a href=\"https://colab.research.google.com/github/chiobiblessed/Music-preference-prediction/blob/main/Week_6_Assignment.ipynb\" target=\"_parent\"><img src=\"https://colab.research.google.com/assets/colab-badge.svg\" alt=\"Open In Colab\"/></a>"
      ]
    },
    {
      "cell_type": "code",
      "execution_count": null,
      "metadata": {
        "id": "gD2NwVaFGYy9"
      },
      "outputs": [],
      "source": []
    },
    {
      "cell_type": "markdown",
      "source": [
        "Consider the folloowing list a , convert it to Numpy Array and name it A. a =[[1,2,3,4],[5,6,7,8],[9,10,11,12]]"
      ],
      "metadata": {
        "id": "4AmKWNXaGhf-"
      }
    },
    {
      "cell_type": "code",
      "source": [
        "import numpy as np\n",
        "a = [[1, 2, 3, 4],[5,6,7,8],[9,10,11,12]]"
      ],
      "metadata": {
        "id": "dbnQ5-7gHK5J"
      },
      "execution_count": 1,
      "outputs": []
    },
    {
      "cell_type": "code",
      "source": [
        "# Convert list a to numpy array A\n",
        "A = np.array(a)\n"
      ],
      "metadata": {
        "id": "ZojJKoSlHvwx"
      },
      "execution_count": 4,
      "outputs": []
    },
    {
      "cell_type": "code",
      "source": [],
      "metadata": {
        "id": "eAxUxPs8Iafq"
      },
      "execution_count": null,
      "outputs": []
    },
    {
      "cell_type": "markdown",
      "source": [
        "Perform matrix multiplication with the numpy arrays A and B. B =np.array([[0, 1],[1,0], [1,1],[-1,0]])\n"
      ],
      "metadata": {
        "id": "32hiEaSNIcM3"
      }
    },
    {
      "cell_type": "code",
      "source": [
        "B =np.array([[0,1], [1, 0], [1,1],[-1,0]])\n",
        "#Matrix multiplication of A and B\n",
        "result = np.dot (A, B)"
      ],
      "metadata": {
        "id": "b0nOZKmSI_Ry"
      },
      "execution_count": 5,
      "outputs": []
    },
    {
      "cell_type": "markdown",
      "source": [
        "Print the output"
      ],
      "metadata": {
        "id": "YRNbrL76JsmQ"
      }
    },
    {
      "cell_type": "code",
      "source": [
        "print (result)"
      ],
      "metadata": {
        "colab": {
          "base_uri": "https://localhost:8080/"
        },
        "id": "iPf-KOE3J4NW",
        "outputId": "6b1a171b-2140-4837-f789-a99b8acc8924"
      },
      "execution_count": 6,
      "outputs": [
        {
          "output_type": "stream",
          "name": "stdout",
          "text": [
            "[[ 1  4]\n",
            " [ 5 12]\n",
            " [ 9 20]]\n"
          ]
        }
      ]
    },
    {
      "cell_type": "code",
      "source": [],
      "metadata": {
        "id": "k9cOSqO4JpzO"
      },
      "execution_count": null,
      "outputs": []
    },
    {
      "cell_type": "markdown",
      "source": [],
      "metadata": {
        "id": "NoOP16niJqm-"
      }
    }
  ]
}