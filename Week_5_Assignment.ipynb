{
  "nbformat": 4,
  "nbformat_minor": 0,
  "metadata": {
    "colab": {
      "provenance": [],
      "authorship_tag": "ABX9TyPPoO75BRKByUCfM8QWc4LG",
      "include_colab_link": true
    },
    "kernelspec": {
      "name": "python3",
      "display_name": "Python 3"
    },
    "language_info": {
      "name": "python"
    }
  },
  "cells": [
    {
      "cell_type": "markdown",
      "metadata": {
        "id": "view-in-github",
        "colab_type": "text"
      },
      "source": [
        "<a href=\"https://colab.research.google.com/github/chiobiblessed/Music-preference-prediction/blob/main/Week_5_Assignment.ipynb\" target=\"_parent\"><img src=\"https://colab.research.google.com/assets/colab-badge.svg\" alt=\"Open In Colab\"/></a>"
      ]
    },
    {
      "cell_type": "code",
      "execution_count": null,
      "metadata": {
        "id": "30NxJ6zy-lvX"
      },
      "outputs": [],
      "source": []
    },
    {
      "cell_type": "markdown",
      "source": [
        "Describe and Compare the use cases of Scatter plots, Line plots,Bar plots and Pie plots.\n",
        "\n",
        "**Answer **\n",
        "\n",
        "**Scatter plots:** Are used to show the relationship between two variables. Scatter plots use points on a coordinate plane to display data values. They can help identify patterns, trends, and clusters in numeric data.\n",
        "\n",
        "**Line plots:** Are used to show changes in value over time. Line plots connect data points with straight line segments to show how a variable progresses along the x-axis. They are useful for comparing changes over time for more than one group.\n",
        "\n",
        "**Bar plots:** Are used to compare values between different groups or to track changes over time. Bar plots use the length of bars to indicate values, with each bar corresponding to a measured group. They are best for showing larger changes over time.\n",
        "\n",
        "**Pie charts**: Are used to show proportions or percentages. Pie charts divide a circle into sectors, with each sector representing a category of data. The angle of each sector shows the proportion of that category as part of the whole. They are best for comparing parts of a whole.\n",
        "\n",
        "**Comparison (Use Cases)**\n",
        "1. Scatter plots: Analysing the relationship between vehicular movement on a particular road per time\n",
        "\n",
        "2. Line plots : Monthly sales of a shopping mall per annum with peak and lowest sales per month.\n",
        "\n",
        "3. Bar plots : Comparing the population of out of school children within sub-saharan Africa\n",
        "\n",
        "4. Pie Plots : Analysing the performance of students with respect to the subjects written in an exam say JAMB.\n",
        "\n",
        "**What is the code for the Matplotlib magic function?**\n",
        "Answer : %matplotlib inline\n"
      ],
      "metadata": {
        "id": "f60ua53--vX1"
      }
    },
    {
      "cell_type": "code",
      "source": [],
      "metadata": {
        "id": "O03_5qVBFNY-"
      },
      "execution_count": null,
      "outputs": []
    }
  ]
}