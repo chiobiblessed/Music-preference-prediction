{
  "nbformat": 4,
  "nbformat_minor": 0,
  "metadata": {
    "colab": {
      "provenance": [],
      "authorship_tag": "ABX9TyOqeAeJxYOkG/RSEnLxBqYq",
      "include_colab_link": true
    },
    "kernelspec": {
      "name": "python3",
      "display_name": "Python 3"
    },
    "language_info": {
      "name": "python"
    }
  },
  "cells": [
    {
      "cell_type": "markdown",
      "metadata": {
        "id": "view-in-github",
        "colab_type": "text"
      },
      "source": [
        "<a href=\"https://colab.research.google.com/github/chiobiblessed/Music-preference-prediction/blob/main/Week_2_Assignment.ipynb\" target=\"_parent\"><img src=\"https://colab.research.google.com/assets/colab-badge.svg\" alt=\"Open In Colab\"/></a>"
      ]
    },
    {
      "cell_type": "code",
      "source": [
        "import pandas as pd\n"
      ],
      "metadata": {
        "id": "uxz-2JIKJX1g"
      },
      "execution_count": null,
      "outputs": []
    },
    {
      "cell_type": "markdown",
      "source": [
        "create a dictionary of name; age ; country"
      ],
      "metadata": {
        "id": "NdRMQHXKJph_"
      }
    },
    {
      "cell_type": "code",
      "execution_count": null,
      "metadata": {
        "id": "oIlT8FtGIqMr"
      },
      "outputs": [],
      "source": [
        "data = {'Name': [ 'Charles', 'Ben', 'Oge', 'Williams', 'Valerie', 'Ashley', 'George', 'Obi'],\n",
        "       'Age' :  [33, 40, 32, 45, 38, 33, 42, 33],\n",
        "       'Country':['Uk', 'Poland', 'Nigeria','Australia','Egypt', 'France', 'Russia', 'Nigeria']}\n"
      ]
    },
    {
      "cell_type": "markdown",
      "source": [
        "Convert the dictionary into a pandas dataframe"
      ],
      "metadata": {
        "id": "H9kOBWpJO--e"
      }
    },
    {
      "cell_type": "code",
      "source": [
        "df = pd.DataFrame(data)"
      ],
      "metadata": {
        "id": "Cl5fL7amrJxI"
      },
      "execution_count": null,
      "outputs": []
    },
    {
      "cell_type": "markdown",
      "source": [
        "Display the dataframe to view its contents"
      ],
      "metadata": {
        "id": "f9cQIks0Pr8P"
      }
    },
    {
      "cell_type": "code",
      "source": [
        "print (df)"
      ],
      "metadata": {
        "colab": {
          "base_uri": "https://localhost:8080/",
          "height": 141
        },
        "id": "viuYPWtErBIO",
        "outputId": "34fdaa74-d239-4a5a-9e41-ed1886c9b394"
      },
      "execution_count": null,
      "outputs": [
        {
          "output_type": "error",
          "ename": "TypeError",
          "evalue": "'builtin_function_or_method' object is not subscriptable",
          "traceback": [
            "\u001b[0;31m---------------------------------------------------------------------------\u001b[0m",
            "\u001b[0;31mTypeError\u001b[0m                                 Traceback (most recent call last)",
            "\u001b[0;32m<ipython-input-22-769e1d09bbf1>\u001b[0m in \u001b[0;36m<cell line: 1>\u001b[0;34m()\u001b[0m\n\u001b[0;32m----> 1\u001b[0;31m \u001b[0mprint\u001b[0m \u001b[0;34m[\u001b[0m\u001b[0;34m(\u001b[0m\u001b[0mdf\u001b[0m\u001b[0;34m)\u001b[0m\u001b[0;34m]\u001b[0m\u001b[0;34m\u001b[0m\u001b[0;34m\u001b[0m\u001b[0m\n\u001b[0m",
            "\u001b[0;31mTypeError\u001b[0m: 'builtin_function_or_method' object is not subscriptable"
          ]
        }
      ]
    },
    {
      "cell_type": "code",
      "source": [],
      "metadata": {
        "id": "YI2PnOZSrsNl"
      },
      "execution_count": null,
      "outputs": []
    }
  ]
}